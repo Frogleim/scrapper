{
 "cells": [
  {
   "cell_type": "code",
   "id": "initial_id",
   "metadata": {
    "collapsed": true
   },
   "source": [
    "import requests\n",
    "from bs4 import BeautifulSoup as BS\n",
    "import time\n",
    "import pandas as pd"
   ],
   "outputs": [],
   "execution_count": null
  },
  {
   "metadata": {},
   "cell_type": "code",
   "source": [
    "url = 'https://thepulse-living.nl/woningvinder/'\n",
    "headers = {\n",
    "    'User-Agent': 'Mozilla/5.0 (Macintosh; Intel Mac OS X 10_15_7) AppleWebKit/605.1.15 (KHTML, like Gecko) Version/18.0 Safari/605.1.15',  # Customize as needed\n",
    "    'Accept': 'application/json'  # Specify expected response format if needed\n",
    "}"
   ],
   "id": "d413bce6987a7719",
   "outputs": [],
   "execution_count": null
  },
  {
   "metadata": {},
   "cell_type": "code",
   "source": [
    "r = requests.get(url, headers=headers)\n",
    "print(r.status_code)"
   ],
   "id": "7f28449500cbdd27",
   "outputs": [],
   "execution_count": null
  },
  {
   "metadata": {},
   "cell_type": "code",
   "source": "print(r.content)",
   "id": "98c269c295aec3d9",
   "outputs": [],
   "execution_count": null
  },
  {
   "metadata": {},
   "cell_type": "code",
   "source": "soup = BS(r.content, 'html.parser')",
   "id": "a575245aa0994887",
   "outputs": [],
   "execution_count": null
  },
  {
   "metadata": {},
   "cell_type": "code",
   "source": [
    "rows = soup.find_all('div', class_='row')\n",
    "print(rows)"
   ],
   "id": "70b556d149de7f89",
   "outputs": [],
   "execution_count": null
  },
  {
   "metadata": {},
   "cell_type": "code",
   "source": [
    "woningurls = [row.get(\"data-woningurl\") for row in rows if row.get(\"data-woningurl\")]\n",
    "print(woningurls)\n"
   ],
   "id": "31e62f764e02fbec",
   "outputs": [],
   "execution_count": null
  },
  {
   "metadata": {},
   "cell_type": "code",
   "source": [
    "for woningurl in woningurls:\n",
    "    if 'woning' in woningurl:\n",
    "        print(woningurl)"
   ],
   "id": "25c9ef90fe6b7345",
   "outputs": [],
   "execution_count": null
  },
  {
   "metadata": {},
   "cell_type": "code",
   "source": [
    "app_url = 'https://thepulse-living.nl/woning/jaddanbaikade-283/'\n",
    "appartment_request = requests.get(app_url, headers=headers)\n",
    "print(appartment_request.text)"
   ],
   "id": "78bbb44debd4a844",
   "outputs": [],
   "execution_count": null
  },
  {
   "metadata": {},
   "cell_type": "code",
   "source": [
    "import re\n",
    "import json"
   ],
   "id": "678835fd0dfbe4bb",
   "outputs": [],
   "execution_count": null
  },
  {
   "metadata": {},
   "cell_type": "code",
   "source": [
    "pattern = r'\\{.*?\\}'\n",
    "matches = re.findall(pattern, appartment_request.text)\n",
    "print(matches)"
   ],
   "id": "995f001644ea3f66",
   "outputs": [],
   "execution_count": null
  },
  {
   "metadata": {},
   "cell_type": "code",
   "source": [
    "data = []\n",
    "for match in matches:\n",
    "    try:\n",
    "        data.append(json.loads(match))\n",
    "    except json.JSONDecodeError:\n",
    "        # Skip if it fails to parse as JSON (not all braces are JSON objects)\n",
    "        continue\n",
    "for item in data:\n",
    "    print(item)"
   ],
   "id": "e03780ab6a5d9d9c",
   "outputs": [],
   "execution_count": null
  },
  {
   "metadata": {
    "ExecuteTime": {
     "end_time": "2024-11-12T08:25:22.904443Z",
     "start_time": "2024-11-12T08:25:21.489826Z"
    }
   },
   "cell_type": "code",
   "source": [
    "import requests\n",
    "from bs4 import BeautifulSoup as BS\n",
    "\n",
    "headers = {\n",
    "    'User-Agent': 'Mozilla/5.0 (Macintosh; Intel Mac OS X 10_15_7) AppleWebKit/605.1.15 (KHTML, like Gecko) Version/18.0 Safari/605.1.15',  # Customize as needed\n",
    "    'Accept': 'application/json'  # Specify expected response format if needed\n",
    "}\n",
    "\n",
    "new_r = requests.get('https://thepulse-living.nl/woning/florence-pricehof-12/', headers=headers)\n",
    "appartment_soup = BS(new_r.content, 'html.parser')\n"
   ],
   "id": "17db76cfd632e076",
   "outputs": [],
   "execution_count": 4
  },
  {
   "metadata": {
    "ExecuteTime": {
     "end_time": "2024-11-12T08:25:26.145254Z",
     "start_time": "2024-11-12T08:25:26.140445Z"
    }
   },
   "cell_type": "code",
   "source": [
    "table = appartment_soup.find('table', class_='specificatietabel')\n",
    "print(table)"
   ],
   "id": "c15ef1f92b4d4a25",
   "outputs": [
    {
     "name": "stdout",
     "output_type": "stream",
     "text": [
      "<table class=\"specificatietabel\">\n",
      "<tbody>\n",
      "<tr>\n",
      "<td>\n",
      "<b>Status</b><br/>\n",
      "\t\t\t\t\t\t\t\t\t\tTe huur\t\t\t\t\t\t\t\t\t</td>\n",
      "<td>\n",
      "<b>Huurprijs </b><br/>\n",
      "\t\t\t\t\t\t\t\t\t\t€ 3695 p/mnd\t\t\t\t\t\t\t\t\t</td>\n",
      "</tr><tr> <td>\n",
      "<b>Woningtype</b><br/>\n",
      "\t\t\t\t\t\t\t\t\t\tA1\t\t\t\t\t\t\t\t\t</td>\n",
      "<td>\n",
      "<b>Woonoppervlakte </b><br/>\n",
      "\t\t\t\t\t\t\t\t\t\t114.50 m2\t\t\t\t\t\t\t\t\t</td>\n",
      "</tr><tr> <td>\n",
      "<b>Aantal kamers</b><br/>\n",
      "\t\t\t\t\t\t\t\t\t\t3\t\t\t\t\t\t\t\t\t</td>\n",
      "<td>\n",
      "<b>Aantal slaapkamers</b><br/>\n",
      "\t\t\t\t\t\t\t\t\t\t2\t\t\t\t\t\t\t\t\t</td>\n",
      "</tr><tr> <td>\n",
      "<b>Oppervlakte buitenruimte </b><br/>\n",
      "\t\t\t\t\t\t\t\t\t\t8.21 m2\t\t\t\t\t\t\t\t\t</td>\n",
      "<td>\n",
      "<b>Balkonligging</b><br/>\n",
      "\t\t\t\t\t\t\t\t\t\tZuid\t\t\t\t\t\t\t\t\t</td>\n",
      "</tr><tr> <td>\n",
      "<b>Berging </b><br/>\n",
      "\t\t\t\t\t\t\t\t\t\t6.5 m2\t\t\t\t\t\t\t\t\t</td>\n",
      "<td>\n",
      "<b>Energielabel</b><br/>\n",
      "\t\t\t\t\t\t\t\t\t\tA+++\t\t\t\t\t\t\t\t\t</td>\n",
      "</tr><tr> </tr>\n",
      "</tbody>\n",
      "</table>\n"
     ]
    }
   ],
   "execution_count": 5
  },
  {
   "metadata": {
    "ExecuteTime": {
     "end_time": "2024-11-12T08:37:35.833917Z",
     "start_time": "2024-11-12T08:37:35.820356Z"
    }
   },
   "cell_type": "code",
   "source": [
    "import json\n",
    "\n",
    "data_dict = {}\n",
    "\n",
    "# Loop through each cell in the table to extract keys and values\n",
    "for cell in table.find_all('td'):\n",
    "    key = cell.find('b').text.strip()  # Extract and clean the key\n",
    "    value = cell.text.replace(key, '').strip()  # Extract and clean the value\n",
    "    data_dict[key] = value  # Store in the dictionary\n"
   ],
   "id": "8956c7e5417e9ee6",
   "outputs": [],
   "execution_count": 6
  },
  {
   "metadata": {
    "ExecuteTime": {
     "end_time": "2024-11-12T08:37:44.849525Z",
     "start_time": "2024-11-12T08:37:44.847185Z"
    }
   },
   "cell_type": "code",
   "source": [
    "json_data = json.dumps(data_dict, ensure_ascii=False, indent=4)\n",
    "\n",
    "# Output the JSON data\n",
    "print(json_data)"
   ],
   "id": "bc4b1a526c3da3a7",
   "outputs": [
    {
     "name": "stdout",
     "output_type": "stream",
     "text": [
      "{\n",
      "    \"Status\": \"Te huur\",\n",
      "    \"Huurprijs\": \"€ 3695 p/mnd\",\n",
      "    \"Woningtype\": \"A1\",\n",
      "    \"Woonoppervlakte\": \"114.50 m2\",\n",
      "    \"Aantal kamers\": \"3\",\n",
      "    \"Aantal slaapkamers\": \"2\",\n",
      "    \"Oppervlakte buitenruimte\": \"8.21 m2\",\n",
      "    \"Balkonligging\": \"Zuid\",\n",
      "    \"Berging\": \"6.5 m2\",\n",
      "    \"Energielabel\": \"A+++\"\n",
      "}\n"
     ]
    }
   ],
   "execution_count": 7
  },
  {
   "metadata": {},
   "cell_type": "code",
   "source": [
    "variables = {}\n",
    "\n",
    "# Iterate through the rows of the table\n",
    "for row in table.find_all('tr'):\n",
    "    cells = row.find_all('td')\n",
    "    for cell in cells:\n",
    "        # Get the title from the <b> tag\n",
    "        title = cell.find('b').get_text(strip=True).replace(' ', '_').lower()\n",
    "        \n",
    "        # Get the text after the first <br> tag\n",
    "        br_tag = cell.find('br')\n",
    "        value = br_tag.next_sibling.strip() if br_tag and br_tag.next_sibling else \"\"\n",
    "        # Store the title and value in the dictionary\n",
    "        variables[title] = value\n",
    "\n",
    "# Print the extracted data\n",
    "clean_data = []\n",
    "for title, value in variables.items():\n",
    "    clean_data.append(value)\n",
    "print(clean_data)\n",
    "segment = clean_data[0]\n",
    "price = clean_data[1]\n",
    "building_number = clean_data[2]\n",
    "living_area = clean_data[3]\n",
    "floor = clean_data[4]\n",
    "rooms_number = clean_data[5]\n",
    "surface_outdoor = clean_data[6]\n",
    "# for clean_datas in clean_data:    \n",
    "#     segment = clean_datas[0]\n",
    "#     price = clean_datas[1]\n",
    "#     \n"
   ],
   "id": "b2b46fead250d695",
   "outputs": [],
   "execution_count": null
  },
  {
   "metadata": {},
   "cell_type": "code",
   "source": "",
   "id": "296981bda70ea213",
   "outputs": [],
   "execution_count": null
  }
 ],
 "metadata": {
  "kernelspec": {
   "display_name": "Python 3",
   "language": "python",
   "name": "python3"
  },
  "language_info": {
   "codemirror_mode": {
    "name": "ipython",
    "version": 2
   },
   "file_extension": ".py",
   "mimetype": "text/x-python",
   "name": "python",
   "nbconvert_exporter": "python",
   "pygments_lexer": "ipython2",
   "version": "2.7.6"
  }
 },
 "nbformat": 4,
 "nbformat_minor": 5
}
